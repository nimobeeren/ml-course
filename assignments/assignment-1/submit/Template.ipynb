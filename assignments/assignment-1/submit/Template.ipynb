{
 "cells": [
  {
   "cell_type": "code",
   "execution_count": 1,
   "metadata": {
    "execution": {
     "iopub.execute_input": "2021-02-21T14:52:37.802547Z",
     "iopub.status.busy": "2021-02-21T14:52:37.802144Z",
     "iopub.status.idle": "2021-02-21T14:52:38.769439Z",
     "shell.execute_reply": "2021-02-21T14:52:38.769137Z"
    },
    "tags": [
     "hide_input"
    ]
   },
   "outputs": [],
   "source": [
    "%%capture\n",
    "# DO NOT EDIT THIS NOTEBOOK\n",
    "# It generates a report to verify your submission\n",
    "import solution\n",
    "import time\n",
    "start_verify = time.time()\n",
    "import matplotlib.pyplot as plt\n",
    "plt.rcParams[\"figure.figsize\"] = (10,3)\n",
    "\n",
    "# Key variables\n",
    "X = solution.X\n",
    "y = solution.y\n",
    "fmnist_classes = solution.fmnist_classes"
   ]
  },
  {
   "cell_type": "markdown",
   "metadata": {},
   "source": [
    "### Data Mining - Assignment 1"
   ]
  },
  {
   "cell_type": "code",
   "execution_count": 2,
   "metadata": {
    "execution": {
     "iopub.execute_input": "2021-02-21T14:52:38.771565Z",
     "iopub.status.busy": "2021-02-21T14:52:38.771234Z",
     "iopub.status.idle": "2021-02-21T14:52:38.773189Z",
     "shell.execute_reply": "2021-02-21T14:52:38.772891Z"
    },
    "tags": [
     "hide_input"
    ]
   },
   "outputs": [
    {
     "name": "stdout",
     "output_type": "stream",
     "text": [
      "Name: Beeren, Nimo\n"
     ]
    }
   ],
   "source": [
    "print(\"Name:\",solution.your_name)"
   ]
  },
  {
   "cell_type": "markdown",
   "metadata": {},
   "source": [
    "#### Answer 1.1 (2p)"
   ]
  },
  {
   "cell_type": "code",
   "execution_count": 3,
   "metadata": {
    "execution": {
     "iopub.execute_input": "2021-02-21T14:52:38.775213Z",
     "iopub.status.busy": "2021-02-21T14:52:38.774925Z",
     "iopub.status.idle": "2021-02-21T14:53:04.326456Z",
     "shell.execute_reply": "2021-02-21T14:53:04.326118Z"
    },
    "tags": [
     "hide_input"
    ]
   },
   "outputs": [
    {
     "data": {
      "image/png": "[encoded data removed]",
      "text/plain": [
       "<Figure size 720x216 with 1 Axes>"
      ]
     },
     "metadata": {
      "needs_background": "light"
     },
     "output_type": "display_data"
    }
   ],
   "source": [
    "solution.plot_1()"
   ]
  },
  {
   "cell_type": "markdown",
   "metadata": {},
   "source": [
    "#### Answer 1.2 (1p)"
   ]
  },
  {
   "cell_type": "code",
   "execution_count": 4,
   "metadata": {
    "execution": {
     "iopub.execute_input": "2021-02-21T14:53:04.329618Z",
     "iopub.status.busy": "2021-02-21T14:53:04.329289Z",
     "iopub.status.idle": "2021-02-21T14:53:04.332757Z",
     "shell.execute_reply": "2021-02-21T14:53:04.333036Z"
    },
    "tags": [
     "hide_input"
    ]
   },
   "outputs": [
    {
     "name": "stdout",
     "output_type": "stream",
     "text": [
      "For gamma = 1e-9\n",
      "A : Underfitting\n"
     ]
    }
   ],
   "source": [
    "print(\"For gamma = 1e-9\")\n",
    "mc = {\"A\": \"Underfitting\",\n",
    "      \"B\": \"Overfitting\",\n",
    "      \"C\": \"Neither underfitting nor overfitting\",\n",
    "      \"D\": \"No answer\"}\n",
    "for a in solution.q_1_2_1.split(\",\"):\n",
    "    if a in mc:\n",
    "        print(a,\":\",mc[a])\n",
    "    else:\n",
    "        print(\"Invalid response!\")"
   ]
  },
  {
   "cell_type": "code",
   "execution_count": 5,
   "metadata": {
    "execution": {
     "iopub.execute_input": "2021-02-21T14:53:04.336625Z",
     "iopub.status.busy": "2021-02-21T14:53:04.336122Z",
     "iopub.status.idle": "2021-02-21T14:53:04.339108Z",
     "shell.execute_reply": "2021-02-21T14:53:04.338671Z"
    },
    "tags": [
     "hide_input"
    ]
   },
   "outputs": [
    {
     "name": "stdout",
     "output_type": "stream",
     "text": [
      "For gamma = 1e3\n",
      "B : Overfitting\n"
     ]
    }
   ],
   "source": [
    "print(\"For gamma = 1e3\")\n",
    "for a in solution.q_1_2_2.split(\",\"):\n",
    "    if a in mc:\n",
    "        print(a,\":\",mc[a])\n",
    "    else:\n",
    "        print(\"Invalid response!\")"
   ]
  },
  {
   "cell_type": "markdown",
   "metadata": {},
   "source": [
    "#### Answer 1.3 (1p)"
   ]
  },
  {
   "cell_type": "code",
   "execution_count": 6,
   "metadata": {
    "execution": {
     "iopub.execute_input": "2021-02-21T14:53:04.343558Z",
     "iopub.status.busy": "2021-02-21T14:53:04.343206Z",
     "iopub.status.idle": "2021-02-21T14:53:24.659858Z",
     "shell.execute_reply": "2021-02-21T14:53:24.659563Z"
    },
    "tags": [
     "hide_input"
    ]
   },
   "outputs": [
    {
     "data": {
      "image/png": "[encoded data removed]",
      "text/plain": [
       "<Figure size 720x216 with 1 Axes>"
      ]
     },
     "metadata": {
      "needs_background": "light"
     },
     "output_type": "display_data"
    }
   ],
   "source": [
    "solution.plot_1_3()"
   ]
  },
  {
   "cell_type": "markdown",
   "metadata": {},
   "source": [
    "#### Answer 1.4 (1p)"
   ]
  },
  {
   "cell_type": "code",
   "execution_count": 7,
   "metadata": {
    "execution": {
     "iopub.execute_input": "2021-02-21T14:53:24.662735Z",
     "iopub.status.busy": "2021-02-21T14:53:24.662417Z",
     "iopub.status.idle": "2021-02-21T14:53:24.664786Z",
     "shell.execute_reply": "2021-02-21T14:53:24.664475Z"
    },
    "tags": [
     "hide_input"
    ]
   },
   "outputs": [
    {
     "name": "stdout",
     "output_type": "stream",
     "text": [
      "For C = 1e6\n",
      "C : Neither underfitting nor overfitting\n",
      "Around C=10 we reach a perfect training score, but the test score drops slightly below the optimum. Using even higher C              values does not affect performance at all, because the margin around the decision boundary is already very small. As a               consequence, there are (almost) no support vectors.\n",
      "Answer is 317 characters long\n"
     ]
    }
   ],
   "source": [
    "print(\"For C = 1e6\")\n",
    "for a in solution.q_1_4_1.split(\",\"):\n",
    "    if a in mc:\n",
    "        print(a,\":\",mc[a])\n",
    "    else:\n",
    "        print(\"Invalid response!\")\n",
    "print(solution.q_1_4_2.strip())\n",
    "print(\"Answer is {} characters long\".format(len(solution.q_1_4_2.strip())))"
   ]
  },
  {
   "cell_type": "markdown",
   "metadata": {},
   "source": [
    "#### Answer 2.1 (2p)"
   ]
  },
  {
   "cell_type": "code",
   "execution_count": 8,
   "metadata": {
    "execution": {
     "iopub.execute_input": "2021-02-21T14:53:24.690522Z",
     "iopub.status.busy": "2021-02-21T14:53:24.689762Z",
     "iopub.status.idle": "2021-02-21T15:11:10.856942Z",
     "shell.execute_reply": "2021-02-21T15:11:10.856588Z"
    },
    "tags": [
     "hide_input"
    ]
   },
   "outputs": [
    {
     "name": "stdout",
     "output_type": "stream",
     "text": [
      "\r",
      "0.01"
     ]
    },
    {
     "name": "stdout",
     "output_type": "stream",
     "text": [
      "\r",
      "0.02"
     ]
    },
    {
     "name": "stdout",
     "output_type": "stream",
     "text": [
      "\r",
      "0.03"
     ]
    },
    {
     "name": "stdout",
     "output_type": "stream",
     "text": [
      "\r",
      "0.04"
     ]
    },
    {
     "name": "stdout",
     "output_type": "stream",
     "text": [
      "\r",
      "0.05"
     ]
    },
    {
     "name": "stdout",
     "output_type": "stream",
     "text": [
      "\r",
      "0.06"
     ]
    },
    {
     "name": "stdout",
     "output_type": "stream",
     "text": [
      "\r",
      "0.07"
     ]
    },
    {
     "name": "stdout",
     "output_type": "stream",
     "text": [
      "\r",
      "0.08"
     ]
    },
    {
     "name": "stdout",
     "output_type": "stream",
     "text": [
      "\r",
      "0.09"
     ]
    },
    {
     "name": "stdout",
     "output_type": "stream",
     "text": [
      "\r",
      "0.10"
     ]
    },
    {
     "data": {
      "image/png": "[encoded data removed]",
      "text/plain": [
       "<Figure size 1008x360 with 2 Axes>"
      ]
     },
     "metadata": {
      "needs_background": "light"
     },
     "output_type": "display_data"
    }
   ],
   "source": [
    "solution.plot_2_1()"
   ]
  },
  {
   "cell_type": "markdown",
   "metadata": {},
   "source": [
    "#### Answer 2.2 (1p)"
   ]
  },
  {
   "cell_type": "code",
   "execution_count": 9,
   "metadata": {
    "execution": {
     "iopub.execute_input": "2021-02-21T15:11:10.859978Z",
     "iopub.status.busy": "2021-02-21T15:11:10.859643Z",
     "iopub.status.idle": "2021-02-21T15:11:10.861346Z",
     "shell.execute_reply": "2021-02-21T15:11:10.860992Z"
    },
    "tags": [
     "hide_input"
    ]
   },
   "outputs": [],
   "source": [
    "mc2 = {\"A\": \"The quadratic programming SVM is better at learning from small datasets, but is also a low slower than SGD\",\n",
    "       \"B\": \"The quadratic programming SVM is about equally good and trains equally fast as SGD\",\n",
    "       \"C\": \"The quadratic programming SVM is about equally good and trains faster than SGD\",\n",
    "       \"D\": \"The SGD SVM is equally good as the quadratic programming SVM given sufficent data, and faster\",\n",
    "       \"E\": \"The SGD SVM is better at learning from small datasets, and trains equally fast as the quadratic programming SVM\",\n",
    "       \"F\": \"The SGD SVM is worse at learning from small datasets, but given more data it will be equally good in the same amount of time\",\n",
    "       \"G\": \"The linear kernel performs much worse than the RBF kernel used in the previous questions\"}"
   ]
  },
  {
   "cell_type": "code",
   "execution_count": 10,
   "metadata": {
    "execution": {
     "iopub.execute_input": "2021-02-21T15:11:10.865657Z",
     "iopub.status.busy": "2021-02-21T15:11:10.865181Z",
     "iopub.status.idle": "2021-02-21T15:11:10.869220Z",
     "shell.execute_reply": "2021-02-21T15:11:10.868878Z"
    },
    "tags": [
     "hide_input"
    ]
   },
   "outputs": [
    {
     "name": "stdout",
     "output_type": "stream",
     "text": [
      "C : The quadratic programming SVM is about equally good and trains faster than SGD\n",
      "F : The SGD SVM is worse at learning from small datasets, but given more data it will be equally good in the same amount of time\n"
     ]
    }
   ],
   "source": [
    "for a in solution.q_2_2.split(\",\"):\n",
    "    if a in mc2:\n",
    "        print(a,\":\",mc2[a])\n",
    "    else:\n",
    "        print(\"Invalid response!\")"
   ]
  },
  {
   "cell_type": "code",
   "execution_count": 11,
   "metadata": {
    "execution": {
     "iopub.execute_input": "2021-02-21T15:11:10.872703Z",
     "iopub.status.busy": "2021-02-21T15:11:10.872365Z",
     "iopub.status.idle": "2021-02-21T15:11:10.874144Z",
     "shell.execute_reply": "2021-02-21T15:11:10.874421Z"
    },
    "tags": [
     "hide_input"
    ]
   },
   "outputs": [
    {
     "name": "stdout",
     "output_type": "stream",
     "text": [
      "While the quadratic programming SVM trains faster than the SGD SVM for the given sample sizes, it looks like the training time for SGD is growing more slowly than for the quadratic SVM. Hence I would expect SGD to be faster for larger sample sizes.\n"
     ]
    }
   ],
   "source": [
    "print(solution.q_2_2_comment)"
   ]
  },
  {
   "cell_type": "markdown",
   "metadata": {},
   "source": [
    "#### Answer 3.1 (2p)"
   ]
  },
  {
   "cell_type": "code",
   "execution_count": 12,
   "metadata": {
    "execution": {
     "iopub.execute_input": "2021-02-21T15:11:10.879355Z",
     "iopub.status.busy": "2021-02-21T15:11:10.877553Z",
     "iopub.status.idle": "2021-02-21T15:11:11.665512Z",
     "shell.execute_reply": "2021-02-21T15:11:11.665163Z"
    },
    "tags": [
     "hide_input"
    ]
   },
   "outputs": [
    {
     "data": {
      "image/png": "[encoded data removed]",
      "text/plain": [
       "<Figure size 720x432 with 10 Axes>"
      ]
     },
     "metadata": {},
     "output_type": "display_data"
    },
    {
     "name": "stdout",
     "output_type": "stream",
     "text": [
      "The support vectors are the samples that are closest to the decision boundary, according to the model. In this case, the support vectors with the highest dual coefficients are the images that are classified as trousers, but are very similar to non-trousers. The support vectors with lowest dual coefficients are the images that are classfied as non-trousers, but are very similar to trousers. We can see that the smallest dual coefficients are assigned to images of narrow and tall products. The model then makes predictions for new instances based on wether they are more similar to the positive support vectors or the negative support vectors.\n",
      "Answer is 645 characters long\n"
     ]
    }
   ],
   "source": [
    "solution.plot_3_1()\n",
    "print(solution.q_3_1.strip())\n",
    "print(\"Answer is {} characters long\".format(len(solution.q_3_1.strip())))"
   ]
  },
  {
   "cell_type": "code",
   "execution_count": 13,
   "metadata": {
    "execution": {
     "iopub.execute_input": "2021-02-21T15:11:11.669354Z",
     "iopub.status.busy": "2021-02-21T15:11:11.668865Z",
     "iopub.status.idle": "2021-02-21T15:11:11.671401Z",
     "shell.execute_reply": "2021-02-21T15:11:11.670798Z"
    },
    "tags": [
     "hide_input"
    ]
   },
   "outputs": [
    {
     "name": "stdout",
     "output_type": "stream",
     "text": [
      "Running time: 1112.90 seconds\n",
      "Last modified: February 21, 2021\n",
      "scikit-learn version: 0.24.1\n"
     ]
    }
   ],
   "source": [
    "end_verify = time.time()\n",
    "print(\"Running time: {:.2f} seconds\".format(end_verify - start_verify))\n",
    "print(\"Last modified: {}\".format(solution.last_edit))\n",
    "print(\"scikit-learn version: {0}\".format(solution.sklearn_version))"
   ]
  }
 ],
 "metadata": {
  "kernelspec": {
   "display_name": "Python 3",
   "language": "python",
   "name": "python3"
  },
  "language_info": {
   "codemirror_mode": {
    "name": "ipython",
    "version": 3
   },
   "file_extension": ".py",
   "mimetype": "text/x-python",
   "name": "python",
   "nbconvert_exporter": "python",
   "pygments_lexer": "ipython3",
   "version": "3.8.5"
  },
  "toc-autonumbering": false,
  "toc-showcode": true,
  "toc-showmarkdowntxt": true,
  "toc-showtags": false
 },
 "nbformat": 4,
 "nbformat_minor": 4
}
