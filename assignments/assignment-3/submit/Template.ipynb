{
 "cells": [
  {
   "cell_type": "code",
   "execution_count": null,
   "metadata": {
    "tags": [
     "hide_input"
    ]
   },
   "outputs": [],
   "source": [
    "try:\n",
    "    import solution\n",
    "except NameError:\n",
    "    raise CellExecutionError(\"\"\"\n",
    "    Could not import solution. Check the following: \n",
    "    1) Does your notebook run top-to-bottom (restart kernel and run all) on your local machine? Notebooks downloaded from another runtime may contain unexpected commands. \n",
    "    2) Does solution.py exist in the submit folder?\n",
    "    3) Check that your notebook does not have any 'pip install' commands.\n",
    "    4) Check the indentation of your notebook code if it was downloaded from Colab\n",
    "    5) Run 'python solution.py' to see where it breaks. Does that help you solve it?\n",
    "    \"\"\")"
   ]
  },
  {
   "cell_type": "code",
   "execution_count": 1,
   "metadata": {
    "execution": {
     "iopub.execute_input": "2021-03-20T15:32:44.079025Z",
     "iopub.status.busy": "2021-03-20T15:32:44.078004Z",
     "iopub.status.idle": "2021-03-20T15:33:20.051380Z",
     "shell.execute_reply": "2021-03-20T15:33:20.053596Z"
    },
    "tags": [
     "hide_input"
    ]
   },
   "outputs": [],
   "source": [
    "%%capture\n",
    "# DO NOT EDIT THIS NOTEBOOK\n",
    "# It generates a report to verify your submission\n",
    "import os\n",
    "import solution\n",
    "import time\n",
    "start_verify = time.time()\n",
    "import matplotlib.pyplot as plt\n",
    "plt.rcParams[\"figure.figsize\"] = (10,3)\n",
    "\n",
    "# Key variables\n",
    "X = solution.X\n",
    "y = solution.y\n",
    "y_train_binary = solution.y_train_binary\n",
    "y_val_binary = solution.y_val_binary\n",
    "evaluation_split_binary = solution.y_val_binary\n",
    "train_classes = solution.train_classes"
   ]
  },
  {
   "cell_type": "markdown",
   "metadata": {},
   "source": [
    "### Machine Learning Engineering - Assignment 3"
   ]
  },
  {
   "cell_type": "code",
   "execution_count": 2,
   "metadata": {
    "execution": {
     "iopub.execute_input": "2021-03-20T15:33:20.065402Z",
     "iopub.status.busy": "2021-03-20T15:33:20.064410Z",
     "iopub.status.idle": "2021-03-20T15:33:20.071319Z",
     "shell.execute_reply": "2021-03-20T15:33:20.071950Z"
    },
    "tags": [
     "hide_input"
    ]
   },
   "outputs": [
    {
     "name": "stdout",
     "output_type": "stream",
     "text": [
      "Name: LAST_NAME, FIRST_NAME\n"
     ]
    }
   ],
   "source": [
    "print(\"Name:\",solution.your_name)"
   ]
  },
  {
   "cell_type": "markdown",
   "metadata": {},
   "source": [
    "#### Answer 1.1 (12p)"
   ]
  },
  {
   "cell_type": "code",
   "execution_count": 3,
   "metadata": {
    "execution": {
     "iopub.execute_input": "2021-03-20T15:33:20.078348Z",
     "iopub.status.busy": "2021-03-20T15:33:20.077681Z",
     "iopub.status.idle": "2021-03-20T15:33:20.082419Z",
     "shell.execute_reply": "2021-03-20T15:33:20.083904Z"
    },
    "tags": [
     "hide_input"
    ]
   },
   "outputs": [
    {
     "name": "stdout",
     "output_type": "stream",
     "text": [
      " Your answer  (length: 14)\n",
      "\n",
      "\u001b[91mNo model is returned by the model_builder\u001b[0m\n"
     ]
    }
   ],
   "source": [
    "from IPython.display import Image\n",
    "solution.print_answer(solution.answer_q_1_1)\n",
    "solution.run_evaluation(\"model_1_1\", solution.build_model_1_1, solution.evaluation_split, solution.base_dir, \n",
    "               train=False, epochs=3, batch_size=32)\n",
    "if os.path.exists(os.path.join(solution.base_dir,'model_1_1.png')):\n",
    "    display(Image(os.path.join(solution.base_dir,'model_1_1.png'), width=200))"
   ]
  },
  {
   "cell_type": "markdown",
   "metadata": {},
   "source": [
    "#### Answer 1.2 (3p)"
   ]
  },
  {
   "cell_type": "code",
   "execution_count": 4,
   "metadata": {
    "execution": {
     "iopub.execute_input": "2021-03-20T15:33:20.093639Z",
     "iopub.status.busy": "2021-03-20T15:33:20.092549Z",
     "iopub.status.idle": "2021-03-20T15:33:20.095371Z",
     "shell.execute_reply": "2021-03-20T15:33:20.095912Z"
    },
    "tags": [
     "hide_input"
    ]
   },
   "outputs": [
    {
     "name": "stdout",
     "output_type": "stream",
     "text": [
      " Your answer  (length: 14)\n",
      "\n",
      "\u001b[91mNo model is returned by the model_builder\u001b[0m\n"
     ]
    }
   ],
   "source": [
    "solution.print_answer(solution.answer_q_1_2)\n",
    "solution.run_evaluation(\"model_1_2\", solution.build_model_1_1, solution.augment_data(), solution.base_dir, \n",
    "               train=False, epochs=3, batch_size=32)"
   ]
  },
  {
   "cell_type": "markdown",
   "metadata": {},
   "source": [
    "#### Answer 2.1 (2p)"
   ]
  },
  {
   "cell_type": "code",
   "execution_count": 5,
   "metadata": {
    "execution": {
     "iopub.execute_input": "2021-03-20T15:33:20.100135Z",
     "iopub.status.busy": "2021-03-20T15:33:20.099548Z",
     "iopub.status.idle": "2021-03-20T15:33:20.101611Z",
     "shell.execute_reply": "2021-03-20T15:33:20.102173Z"
    },
    "tags": [
     "hide_input"
    ]
   },
   "outputs": [
    {
     "name": "stdout",
     "output_type": "stream",
     "text": [
      "Test accuracy: None\n",
      " Your answer  (length: 14)\n",
      "\n"
     ]
    }
   ],
   "source": [
    "print(\"Test accuracy:\", solution.test_accuracy_2_1)\n",
    "solution.plot_confusion_matrix()\n",
    "solution.plot_misclassifications()\n",
    "solution.print_answer(solution.answer_q_2_1)"
   ]
  },
  {
   "cell_type": "markdown",
   "metadata": {},
   "source": [
    "#### Answer 2.2 (8p)"
   ]
  },
  {
   "cell_type": "code",
   "execution_count": 6,
   "metadata": {
    "execution": {
     "iopub.execute_input": "2021-03-20T15:33:20.105951Z",
     "iopub.status.busy": "2021-03-20T15:33:20.104759Z",
     "iopub.status.idle": "2021-03-20T15:33:20.112706Z",
     "shell.execute_reply": "2021-03-20T15:33:20.113563Z"
    },
    "tags": [
     "hide_input"
    ]
   },
   "outputs": [
    {
     "name": "stdout",
     "output_type": "stream",
     "text": [
      " Your answer  (length: 14)\n",
      "\n"
     ]
    }
   ],
   "source": [
    "solution.plot_activations()\n",
    "solution.print_answer(solution.answer_q_2_2)"
   ]
  },
  {
   "cell_type": "markdown",
   "metadata": {},
   "source": [
    "#### Answer 2.3 (5p)"
   ]
  },
  {
   "cell_type": "code",
   "execution_count": 7,
   "metadata": {
    "execution": {
     "iopub.execute_input": "2021-03-20T15:33:20.117913Z",
     "iopub.status.busy": "2021-03-20T15:33:20.117264Z",
     "iopub.status.idle": "2021-03-20T15:33:20.119617Z",
     "shell.execute_reply": "2021-03-20T15:33:20.120197Z"
    },
    "tags": [
     "hide_input"
    ]
   },
   "outputs": [
    {
     "name": "stdout",
     "output_type": "stream",
     "text": [
      " Your answer  (length: 14)\n",
      "\n"
     ]
    }
   ],
   "source": [
    "dn_embs = solution.create_embeddings(\"model_1_2\")\n",
    "d2_embs = solution.compute_tsne(dn_embs)\n",
    "solution.plot_tsne(d2_embs, y_train_binary)\n",
    "solution.print_answer(solution.answer_q_2_3)"
   ]
  },
  {
   "cell_type": "markdown",
   "metadata": {},
   "source": [
    "#### Answer 3.1 (8p)"
   ]
  },
  {
   "cell_type": "code",
   "execution_count": 8,
   "metadata": {
    "execution": {
     "iopub.execute_input": "2021-03-20T15:33:20.126438Z",
     "iopub.status.busy": "2021-03-20T15:33:20.125417Z",
     "iopub.status.idle": "2021-03-20T15:33:20.128147Z",
     "shell.execute_reply": "2021-03-20T15:33:20.129447Z"
    },
    "tags": [
     "hide_input"
    ]
   },
   "outputs": [
    {
     "name": "stdout",
     "output_type": "stream",
     "text": [
      " Your answer  (length: 14)\n",
      "\n",
      "\u001b[91mNo model is returned by the model_builder\u001b[0m\n"
     ]
    }
   ],
   "source": [
    "solution.print_answer(solution.answer_q_3_1)\n",
    "solution.run_evaluation(\"model_3_1\", solution.build_model_3_1, solution.augment_data_multi_class(), solution.base_dir, \n",
    "                        train=False, epochs=3, batch_size=32)\n",
    "if os.path.exists(os.path.join(solution.base_dir,'model_3_1.png')):\n",
    "    display(Image(os.path.join(solution.base_dir,'model_3_1.png'), width=200))"
   ]
  },
  {
   "cell_type": "markdown",
   "metadata": {},
   "source": [
    "#### Answer 3.2 (7p)"
   ]
  },
  {
   "cell_type": "code",
   "execution_count": 9,
   "metadata": {
    "execution": {
     "iopub.execute_input": "2021-03-20T15:33:20.135427Z",
     "iopub.status.busy": "2021-03-20T15:33:20.134527Z",
     "iopub.status.idle": "2021-03-20T15:33:20.137530Z",
     "shell.execute_reply": "2021-03-20T15:33:20.138185Z"
    },
    "tags": [
     "hide_input"
    ]
   },
   "outputs": [
    {
     "name": "stdout",
     "output_type": "stream",
     "text": [
      " Your answer  (length: 14)\n",
      "\n",
      "\u001b[91mNo model is returned by the model_builder\u001b[0m\n"
     ]
    }
   ],
   "source": [
    "solution.print_answer(solution.answer_q_3_2)\n",
    "solution.run_evaluation(\"model_3_2\", solution.build_model_3_2, solution.augment_data_multi_class(), solution.base_dir, \n",
    "                        train=False, epochs=3, batch_size=32)\n",
    "if os.path.exists(os.path.join(solution.base_dir,'model_3_2.png')):\n",
    "    display(Image(os.path.join(solution.base_dir,'model_3_2.png'), width=200))"
   ]
  },
  {
   "cell_type": "markdown",
   "metadata": {},
   "source": [
    "#### Answer 3.3 (5p)"
   ]
  },
  {
   "cell_type": "code",
   "execution_count": 10,
   "metadata": {
    "execution": {
     "iopub.execute_input": "2021-03-20T15:33:20.142943Z",
     "iopub.status.busy": "2021-03-20T15:33:20.142368Z",
     "iopub.status.idle": "2021-03-20T15:33:20.144573Z",
     "shell.execute_reply": "2021-03-20T15:33:20.145125Z"
    },
    "tags": [
     "hide_input"
    ]
   },
   "outputs": [
    {
     "name": "stdout",
     "output_type": "stream",
     "text": [
      " Your answer  (length: 14)\n",
      "\n"
     ]
    }
   ],
   "source": [
    "dn_embs_37 = solution.create_embeddings(\"model_3_2\")\n",
    "d2_embs_37 = solution.compute_tsne(dn_embs_37)\n",
    "solution.plot_tsne(d2_embs_37, train_classes)\n",
    "solution.print_answer(solution.answer_q_3_3)"
   ]
  },
  {
   "cell_type": "code",
   "execution_count": 11,
   "metadata": {
    "execution": {
     "iopub.execute_input": "2021-03-20T15:33:20.149677Z",
     "iopub.status.busy": "2021-03-20T15:33:20.149052Z",
     "iopub.status.idle": "2021-03-20T15:33:20.152787Z",
     "shell.execute_reply": "2021-03-20T15:33:20.151989Z"
    },
    "tags": [
     "hide_input"
    ]
   },
   "outputs": [
    {
     "name": "stdout",
     "output_type": "stream",
     "text": [
      "Running time: 0.15 seconds\n",
      "Last modified: March 20, 2021\n",
      "scikit-learn version: 0.23.2\n",
      "tensorflow version: 2.4.1\n"
     ]
    }
   ],
   "source": [
    "end_verify = time.time()\n",
    "print(\"Running time: {:.2f} seconds\".format(end_verify - start_verify))\n",
    "print(\"Last modified: {}\".format(solution.last_edit))\n",
    "print(\"scikit-learn version: {0}\".format(solution.sklearn_version))\n",
    "print(\"tensorflow version: {0}\".format(solution.tensorflow_version))"
   ]
  }
 ],
 "metadata": {
  "kernelspec": {
   "display_name": "Python 3",
   "language": "python",
   "name": "python3"
  },
  "language_info": {
   "codemirror_mode": {
    "name": "ipython",
    "version": 3
   },
   "file_extension": ".py",
   "mimetype": "text/x-python",
   "name": "python",
   "nbconvert_exporter": "python",
   "pygments_lexer": "ipython3",
   "version": "3.8.5"
  }
 },
 "nbformat": 4,
 "nbformat_minor": 4
}
